{
  "nbformat": 4,
  "nbformat_minor": 0,
  "metadata": {
    "colab": {
      "name": "SIN_J_Comp.ipynb",
      "provenance": [],
      "authorship_tag": "ABX9TyNlWpYeATRJWAs+ulMy7LLT",
      "include_colab_link": true
    },
    "kernelspec": {
      "name": "python3",
      "display_name": "Python 3"
    },
    "language_info": {
      "name": "python"
    }
  },
  "cells": [
    {
      "cell_type": "markdown",
      "metadata": {
        "id": "view-in-github",
        "colab_type": "text"
      },
      "source": [
        "<a href=\"https://colab.research.google.com/github/jugal12345/AngryBirdsClone/blob/main/SIN_J_Comp.ipynb\" target=\"_parent\"><img src=\"https://colab.research.google.com/assets/colab-badge.svg\" alt=\"Open In Colab\"/></a>"
      ]
    },
    {
      "cell_type": "code",
      "metadata": {
        "id": "ApWaQbsQPzSU",
        "colab": {
          "base_uri": "https://localhost:8080/"
        },
        "outputId": "6d15f584-c701-4d9d-9f2b-0cf8bb1ad323"
      },
      "source": [
        "import numpy as np\n",
        "import pandas as pd \n",
        "import matplotlib.pyplot as plt\n",
        "import seaborn as sns\n",
        "\n",
        "import warnings\n",
        "warnings.filterwarnings(\"ignore\")\n",
        "\n",
        "import re\n",
        "from bs4 import BeautifulSoup\n",
        "from tqdm import tqdm\n",
        "from nltk.stem import WordNetLemmatizer\n",
        "import nltk\n",
        "from nltk.corpus import stopwords\n",
        "nltk.download('wordnet')\n",
        "nltk.download('stopwords')\n",
        "import re\n",
        "from nltk.stem import PorterStemmer\n",
        "from nltk.tokenize import TweetTokenizer\n",
        "import string\n",
        "\n",
        "from sklearn.model_selection import train_test_split\n",
        "from sklearn.metrics import accuracy_score,f1_score, confusion_matrix\n",
        "\n",
        "import nlpaug.augmenter.char as nac\n",
        "import nlpaug.augmenter.word as naw\n",
        "import nlpaug.augmenter.sentence as nas\n",
        "import nlpaug.flow as nafc\n",
        "\n",
        "from nlpaug.util import Action"
      ],
      "execution_count": null,
      "outputs": [
        {
          "output_type": "stream",
          "name": "stdout",
          "text": [
            "[nltk_data] Downloading package wordnet to /root/nltk_data...\n",
            "[nltk_data]   Package wordnet is already up-to-date!\n",
            "[nltk_data] Downloading package stopwords to /root/nltk_data...\n",
            "[nltk_data]   Package stopwords is already up-to-date!\n"
          ]
        }
      ]
    },
    {
      "cell_type": "code",
      "metadata": {
        "colab": {
          "base_uri": "https://localhost:8080/",
          "height": 522
        },
        "id": "zVFsSG3om_QD",
        "outputId": "72d4c4fb-60c7-4ccc-ab46-d3722a9b6faf"
      },
      "source": [
        "pip install nlpaug"
      ],
      "execution_count": null,
      "outputs": [
        {
          "output_type": "stream",
          "name": "stdout",
          "text": [
            "Collecting nlpaug\n",
            "  Downloading nlpaug-1.1.9-py3-none-any.whl (408 kB)\n",
            "\u001b[?25l\r\u001b[K     |▉                               | 10 kB 24.0 MB/s eta 0:00:01\r\u001b[K     |█▋                              | 20 kB 10.8 MB/s eta 0:00:01\r\u001b[K     |██▍                             | 30 kB 9.7 MB/s eta 0:00:01\r\u001b[K     |███▏                            | 40 kB 8.7 MB/s eta 0:00:01\r\u001b[K     |████                            | 51 kB 5.1 MB/s eta 0:00:01\r\u001b[K     |████▉                           | 61 kB 5.3 MB/s eta 0:00:01\r\u001b[K     |█████▋                          | 71 kB 5.2 MB/s eta 0:00:01\r\u001b[K     |██████▍                         | 81 kB 5.9 MB/s eta 0:00:01\r\u001b[K     |███████▏                        | 92 kB 4.6 MB/s eta 0:00:01\r\u001b[K     |████████                        | 102 kB 5.0 MB/s eta 0:00:01\r\u001b[K     |████████▉                       | 112 kB 5.0 MB/s eta 0:00:01\r\u001b[K     |█████████▋                      | 122 kB 5.0 MB/s eta 0:00:01\r\u001b[K     |██████████▍                     | 133 kB 5.0 MB/s eta 0:00:01\r\u001b[K     |███████████▏                    | 143 kB 5.0 MB/s eta 0:00:01\r\u001b[K     |████████████                    | 153 kB 5.0 MB/s eta 0:00:01\r\u001b[K     |████████████▉                   | 163 kB 5.0 MB/s eta 0:00:01\r\u001b[K     |█████████████▋                  | 174 kB 5.0 MB/s eta 0:00:01\r\u001b[K     |██████████████▍                 | 184 kB 5.0 MB/s eta 0:00:01\r\u001b[K     |███████████████▎                | 194 kB 5.0 MB/s eta 0:00:01\r\u001b[K     |████████████████                | 204 kB 5.0 MB/s eta 0:00:01\r\u001b[K     |████████████████▉               | 215 kB 5.0 MB/s eta 0:00:01\r\u001b[K     |█████████████████▋              | 225 kB 5.0 MB/s eta 0:00:01\r\u001b[K     |██████████████████▍             | 235 kB 5.0 MB/s eta 0:00:01\r\u001b[K     |███████████████████▎            | 245 kB 5.0 MB/s eta 0:00:01\r\u001b[K     |████████████████████            | 256 kB 5.0 MB/s eta 0:00:01\r\u001b[K     |████████████████████▉           | 266 kB 5.0 MB/s eta 0:00:01\r\u001b[K     |█████████████████████▋          | 276 kB 5.0 MB/s eta 0:00:01\r\u001b[K     |██████████████████████▍         | 286 kB 5.0 MB/s eta 0:00:01\r\u001b[K     |███████████████████████▎        | 296 kB 5.0 MB/s eta 0:00:01\r\u001b[K     |████████████████████████        | 307 kB 5.0 MB/s eta 0:00:01\r\u001b[K     |████████████████████████▉       | 317 kB 5.0 MB/s eta 0:00:01\r\u001b[K     |█████████████████████████▋      | 327 kB 5.0 MB/s eta 0:00:01\r\u001b[K     |██████████████████████████▍     | 337 kB 5.0 MB/s eta 0:00:01\r\u001b[K     |███████████████████████████▎    | 348 kB 5.0 MB/s eta 0:00:01\r\u001b[K     |████████████████████████████    | 358 kB 5.0 MB/s eta 0:00:01\r\u001b[K     |████████████████████████████▉   | 368 kB 5.0 MB/s eta 0:00:01\r\u001b[K     |█████████████████████████████▋  | 378 kB 5.0 MB/s eta 0:00:01\r\u001b[K     |██████████████████████████████▌ | 389 kB 5.0 MB/s eta 0:00:01\r\u001b[K     |███████████████████████████████▎| 399 kB 5.0 MB/s eta 0:00:01\r\u001b[K     |████████████████████████████████| 408 kB 5.0 MB/s \n",
            "\u001b[?25hRequirement already satisfied: requests>=2.22.0 in /usr/local/lib/python3.7/dist-packages (from nlpaug) (2.23.0)\n",
            "Requirement already satisfied: numpy>=1.16.2 in /usr/local/lib/python3.7/dist-packages (from nlpaug) (1.19.5)\n",
            "Collecting pandas>=1.2.0\n",
            "  Downloading pandas-1.3.4-cp37-cp37m-manylinux_2_17_x86_64.manylinux2014_x86_64.whl (11.3 MB)\n",
            "\u001b[K     |████████████████████████████████| 11.3 MB 55.2 MB/s \n",
            "\u001b[?25hRequirement already satisfied: python-dateutil>=2.7.3 in /usr/local/lib/python3.7/dist-packages (from pandas>=1.2.0->nlpaug) (2.8.2)\n",
            "Requirement already satisfied: pytz>=2017.3 in /usr/local/lib/python3.7/dist-packages (from pandas>=1.2.0->nlpaug) (2018.9)\n",
            "Requirement already satisfied: six>=1.5 in /usr/local/lib/python3.7/dist-packages (from python-dateutil>=2.7.3->pandas>=1.2.0->nlpaug) (1.15.0)\n",
            "Requirement already satisfied: urllib3!=1.25.0,!=1.25.1,<1.26,>=1.21.1 in /usr/local/lib/python3.7/dist-packages (from requests>=2.22.0->nlpaug) (1.24.3)\n",
            "Requirement already satisfied: idna<3,>=2.5 in /usr/local/lib/python3.7/dist-packages (from requests>=2.22.0->nlpaug) (2.10)\n",
            "Requirement already satisfied: chardet<4,>=3.0.2 in /usr/local/lib/python3.7/dist-packages (from requests>=2.22.0->nlpaug) (3.0.4)\n",
            "Requirement already satisfied: certifi>=2017.4.17 in /usr/local/lib/python3.7/dist-packages (from requests>=2.22.0->nlpaug) (2021.10.8)\n",
            "Installing collected packages: pandas, nlpaug\n",
            "  Attempting uninstall: pandas\n",
            "    Found existing installation: pandas 1.1.5\n",
            "    Uninstalling pandas-1.1.5:\n",
            "      Successfully uninstalled pandas-1.1.5\n",
            "\u001b[31mERROR: pip's dependency resolver does not currently take into account all the packages that are installed. This behaviour is the source of the following dependency conflicts.\n",
            "google-colab 1.0.0 requires pandas~=1.1.0; python_version >= \"3.0\", but you have pandas 1.3.4 which is incompatible.\u001b[0m\n",
            "Successfully installed nlpaug-1.1.9 pandas-1.3.4\n"
          ]
        },
        {
          "output_type": "display_data",
          "data": {
            "application/vnd.colab-display-data+json": {
              "pip_warning": {
                "packages": [
                  "pandas"
                ]
              }
            }
          },
          "metadata": {}
        }
      ]
    },
    {
      "cell_type": "code",
      "metadata": {
        "id": "lbWOms7qQ7CJ"
      },
      "source": [
        "df = pd.read_csv('/content/political_social_media.csv',encoding=\"ISO-8859-1\")"
      ],
      "execution_count": null,
      "outputs": []
    },
    {
      "cell_type": "code",
      "metadata": {
        "colab": {
          "base_uri": "https://localhost:8080/",
          "height": 293
        },
        "id": "6UEvhN_5OnGC",
        "outputId": "f024b23f-ab40-4b10-cef7-580ddfab54a7"
      },
      "source": [
        "df.head()"
      ],
      "execution_count": null,
      "outputs": [
        {
          "output_type": "execute_result",
          "data": {
            "text/html": [
              "<div>\n",
              "<style scoped>\n",
              "    .dataframe tbody tr th:only-of-type {\n",
              "        vertical-align: middle;\n",
              "    }\n",
              "\n",
              "    .dataframe tbody tr th {\n",
              "        vertical-align: top;\n",
              "    }\n",
              "\n",
              "    .dataframe thead th {\n",
              "        text-align: right;\n",
              "    }\n",
              "</style>\n",
              "<table border=\"1\" class=\"dataframe\">\n",
              "  <thead>\n",
              "    <tr style=\"text-align: right;\">\n",
              "      <th></th>\n",
              "      <th>_trusted_judgments</th>\n",
              "      <th>audience</th>\n",
              "      <th>audience:confidence</th>\n",
              "      <th>bias</th>\n",
              "      <th>bias:confidence</th>\n",
              "      <th>message</th>\n",
              "      <th>message:confidence</th>\n",
              "      <th>source</th>\n",
              "      <th>text</th>\n",
              "    </tr>\n",
              "  </thead>\n",
              "  <tbody>\n",
              "    <tr>\n",
              "      <th>0</th>\n",
              "      <td>1</td>\n",
              "      <td>1</td>\n",
              "      <td>1.0</td>\n",
              "      <td>1</td>\n",
              "      <td>1.0</td>\n",
              "      <td>1</td>\n",
              "      <td>1.0</td>\n",
              "      <td>0</td>\n",
              "      <td>RT @nowthisnews: Rep. Trey Radel (R- #FL) slam...</td>\n",
              "    </tr>\n",
              "    <tr>\n",
              "      <th>1</th>\n",
              "      <td>1</td>\n",
              "      <td>1</td>\n",
              "      <td>1.0</td>\n",
              "      <td>1</td>\n",
              "      <td>1.0</td>\n",
              "      <td>2</td>\n",
              "      <td>1.0</td>\n",
              "      <td>0</td>\n",
              "      <td>VIDEO - #Obamacare:  Full of Higher Costs and ...</td>\n",
              "    </tr>\n",
              "    <tr>\n",
              "      <th>2</th>\n",
              "      <td>1</td>\n",
              "      <td>1</td>\n",
              "      <td>1.0</td>\n",
              "      <td>0</td>\n",
              "      <td>1.0</td>\n",
              "      <td>3</td>\n",
              "      <td>1.0</td>\n",
              "      <td>0</td>\n",
              "      <td>Please join me today in remembering our fallen...</td>\n",
              "    </tr>\n",
              "    <tr>\n",
              "      <th>3</th>\n",
              "      <td>1</td>\n",
              "      <td>1</td>\n",
              "      <td>1.0</td>\n",
              "      <td>0</td>\n",
              "      <td>1.0</td>\n",
              "      <td>1</td>\n",
              "      <td>1.0</td>\n",
              "      <td>0</td>\n",
              "      <td>RT @SenatorLeahy: 1st step toward Senate debat...</td>\n",
              "    </tr>\n",
              "    <tr>\n",
              "      <th>4</th>\n",
              "      <td>1</td>\n",
              "      <td>1</td>\n",
              "      <td>1.0</td>\n",
              "      <td>1</td>\n",
              "      <td>1.0</td>\n",
              "      <td>1</td>\n",
              "      <td>1.0</td>\n",
              "      <td>0</td>\n",
              "      <td>.@amazon delivery #drones show need to update ...</td>\n",
              "    </tr>\n",
              "  </tbody>\n",
              "</table>\n",
              "</div>"
            ],
            "text/plain": [
              "   _trusted_judgments  ...                                               text\n",
              "0                   1  ...  RT @nowthisnews: Rep. Trey Radel (R- #FL) slam...\n",
              "1                   1  ...  VIDEO - #Obamacare:  Full of Higher Costs and ...\n",
              "2                   1  ...  Please join me today in remembering our fallen...\n",
              "3                   1  ...  RT @SenatorLeahy: 1st step toward Senate debat...\n",
              "4                   1  ...  .@amazon delivery #drones show need to update ...\n",
              "\n",
              "[5 rows x 9 columns]"
            ]
          },
          "metadata": {},
          "execution_count": 3
        }
      ]
    },
    {
      "cell_type": "code",
      "metadata": {
        "colab": {
          "base_uri": "https://localhost:8080/",
          "height": 597
        },
        "id": "yo7wJiz8Pl0Q",
        "outputId": "370a0418-d904-4dbf-e3b2-b68f677783d1"
      },
      "source": [
        "df"
      ],
      "execution_count": null,
      "outputs": [
        {
          "output_type": "execute_result",
          "data": {
            "text/html": [
              "<div>\n",
              "<style scoped>\n",
              "    .dataframe tbody tr th:only-of-type {\n",
              "        vertical-align: middle;\n",
              "    }\n",
              "\n",
              "    .dataframe tbody tr th {\n",
              "        vertical-align: top;\n",
              "    }\n",
              "\n",
              "    .dataframe thead th {\n",
              "        text-align: right;\n",
              "    }\n",
              "</style>\n",
              "<table border=\"1\" class=\"dataframe\">\n",
              "  <thead>\n",
              "    <tr style=\"text-align: right;\">\n",
              "      <th></th>\n",
              "      <th>_trusted_judgments</th>\n",
              "      <th>audience</th>\n",
              "      <th>audience:confidence</th>\n",
              "      <th>bias</th>\n",
              "      <th>bias:confidence</th>\n",
              "      <th>message</th>\n",
              "      <th>message:confidence</th>\n",
              "      <th>source</th>\n",
              "      <th>text</th>\n",
              "    </tr>\n",
              "  </thead>\n",
              "  <tbody>\n",
              "    <tr>\n",
              "      <th>0</th>\n",
              "      <td>1</td>\n",
              "      <td>1</td>\n",
              "      <td>1.0</td>\n",
              "      <td>1</td>\n",
              "      <td>1.0</td>\n",
              "      <td>1</td>\n",
              "      <td>1.0</td>\n",
              "      <td>0</td>\n",
              "      <td>RT @nowthisnews: Rep. Trey Radel (R- #FL) slam...</td>\n",
              "    </tr>\n",
              "    <tr>\n",
              "      <th>1</th>\n",
              "      <td>1</td>\n",
              "      <td>1</td>\n",
              "      <td>1.0</td>\n",
              "      <td>1</td>\n",
              "      <td>1.0</td>\n",
              "      <td>2</td>\n",
              "      <td>1.0</td>\n",
              "      <td>0</td>\n",
              "      <td>VIDEO - #Obamacare:  Full of Higher Costs and ...</td>\n",
              "    </tr>\n",
              "    <tr>\n",
              "      <th>2</th>\n",
              "      <td>1</td>\n",
              "      <td>1</td>\n",
              "      <td>1.0</td>\n",
              "      <td>0</td>\n",
              "      <td>1.0</td>\n",
              "      <td>3</td>\n",
              "      <td>1.0</td>\n",
              "      <td>0</td>\n",
              "      <td>Please join me today in remembering our fallen...</td>\n",
              "    </tr>\n",
              "    <tr>\n",
              "      <th>3</th>\n",
              "      <td>1</td>\n",
              "      <td>1</td>\n",
              "      <td>1.0</td>\n",
              "      <td>0</td>\n",
              "      <td>1.0</td>\n",
              "      <td>1</td>\n",
              "      <td>1.0</td>\n",
              "      <td>0</td>\n",
              "      <td>RT @SenatorLeahy: 1st step toward Senate debat...</td>\n",
              "    </tr>\n",
              "    <tr>\n",
              "      <th>4</th>\n",
              "      <td>1</td>\n",
              "      <td>1</td>\n",
              "      <td>1.0</td>\n",
              "      <td>1</td>\n",
              "      <td>1.0</td>\n",
              "      <td>1</td>\n",
              "      <td>1.0</td>\n",
              "      <td>0</td>\n",
              "      <td>.@amazon delivery #drones show need to update ...</td>\n",
              "    </tr>\n",
              "    <tr>\n",
              "      <th>...</th>\n",
              "      <td>...</td>\n",
              "      <td>...</td>\n",
              "      <td>...</td>\n",
              "      <td>...</td>\n",
              "      <td>...</td>\n",
              "      <td>...</td>\n",
              "      <td>...</td>\n",
              "      <td>...</td>\n",
              "      <td>...</td>\n",
              "    </tr>\n",
              "    <tr>\n",
              "      <th>4995</th>\n",
              "      <td>1</td>\n",
              "      <td>1</td>\n",
              "      <td>1.0</td>\n",
              "      <td>1</td>\n",
              "      <td>1.0</td>\n",
              "      <td>3</td>\n",
              "      <td>1.0</td>\n",
              "      <td>1</td>\n",
              "      <td>I applaud Governor PerryÛªs recent decision t...</td>\n",
              "    </tr>\n",
              "    <tr>\n",
              "      <th>4996</th>\n",
              "      <td>1</td>\n",
              "      <td>1</td>\n",
              "      <td>1.0</td>\n",
              "      <td>1</td>\n",
              "      <td>1.0</td>\n",
              "      <td>1</td>\n",
              "      <td>1.0</td>\n",
              "      <td>1</td>\n",
              "      <td>Today, I voted in favor of H.R. 5016 - Financi...</td>\n",
              "    </tr>\n",
              "    <tr>\n",
              "      <th>4997</th>\n",
              "      <td>1</td>\n",
              "      <td>1</td>\n",
              "      <td>1.0</td>\n",
              "      <td>0</td>\n",
              "      <td>1.0</td>\n",
              "      <td>1</td>\n",
              "      <td>1.0</td>\n",
              "      <td>1</td>\n",
              "      <td>(Taken from posted WOKV interview)   Congressm...</td>\n",
              "    </tr>\n",
              "    <tr>\n",
              "      <th>4998</th>\n",
              "      <td>1</td>\n",
              "      <td>1</td>\n",
              "      <td>1.0</td>\n",
              "      <td>0</td>\n",
              "      <td>1.0</td>\n",
              "      <td>8</td>\n",
              "      <td>1.0</td>\n",
              "      <td>1</td>\n",
              "      <td>Join me next week for a town hall in Ocala! I'...</td>\n",
              "    </tr>\n",
              "    <tr>\n",
              "      <th>4999</th>\n",
              "      <td>1</td>\n",
              "      <td>1</td>\n",
              "      <td>1.0</td>\n",
              "      <td>0</td>\n",
              "      <td>1.0</td>\n",
              "      <td>3</td>\n",
              "      <td>1.0</td>\n",
              "      <td>1</td>\n",
              "      <td>Foreign Affairs Committee Hearing on Syria. I ...</td>\n",
              "    </tr>\n",
              "  </tbody>\n",
              "</table>\n",
              "<p>5000 rows × 9 columns</p>\n",
              "</div>"
            ],
            "text/plain": [
              "      _trusted_judgments  ...                                               text\n",
              "0                      1  ...  RT @nowthisnews: Rep. Trey Radel (R- #FL) slam...\n",
              "1                      1  ...  VIDEO - #Obamacare:  Full of Higher Costs and ...\n",
              "2                      1  ...  Please join me today in remembering our fallen...\n",
              "3                      1  ...  RT @SenatorLeahy: 1st step toward Senate debat...\n",
              "4                      1  ...  .@amazon delivery #drones show need to update ...\n",
              "...                  ...  ...                                                ...\n",
              "4995                   1  ...  I applaud Governor PerryÛªs recent decision t...\n",
              "4996                   1  ...  Today, I voted in favor of H.R. 5016 - Financi...\n",
              "4997                   1  ...  (Taken from posted WOKV interview)   Congressm...\n",
              "4998                   1  ...  Join me next week for a town hall in Ocala! I'...\n",
              "4999                   1  ...  Foreign Affairs Committee Hearing on Syria. I ...\n",
              "\n",
              "[5000 rows x 9 columns]"
            ]
          },
          "metadata": {},
          "execution_count": 4
        }
      ]
    },
    {
      "cell_type": "code",
      "metadata": {
        "colab": {
          "base_uri": "https://localhost:8080/"
        },
        "id": "w9q_jVJlS4z_",
        "outputId": "f7bc70b5-5e05-4a18-b95f-2b29ea18fce5"
      },
      "source": [
        "df.shape"
      ],
      "execution_count": null,
      "outputs": [
        {
          "output_type": "execute_result",
          "data": {
            "text/plain": [
              "(5000, 9)"
            ]
          },
          "metadata": {},
          "execution_count": 5
        }
      ]
    },
    {
      "cell_type": "code",
      "metadata": {
        "colab": {
          "base_uri": "https://localhost:8080/"
        },
        "id": "Kj2QZgG5S8mi",
        "outputId": "1465050e-1138-49b9-c4fd-26295cd21eea"
      },
      "source": [
        "df.columns"
      ],
      "execution_count": null,
      "outputs": [
        {
          "output_type": "execute_result",
          "data": {
            "text/plain": [
              "Index(['_trusted_judgments', 'audience', 'audience:confidence', 'bias',\n",
              "       'bias:confidence', 'message', 'message:confidence', 'source', 'text'],\n",
              "      dtype='object')"
            ]
          },
          "metadata": {},
          "execution_count": 6
        }
      ]
    },
    {
      "cell_type": "code",
      "metadata": {
        "colab": {
          "base_uri": "https://localhost:8080/"
        },
        "id": "gf_1RtiVTX4P",
        "outputId": "87b4c40a-0c4b-47c2-b550-bbca3f6eb5a8"
      },
      "source": [
        "df.dtypes"
      ],
      "execution_count": null,
      "outputs": [
        {
          "output_type": "execute_result",
          "data": {
            "text/plain": [
              "_trusted_judgments       int64\n",
              "audience                 int64\n",
              "audience:confidence    float64\n",
              "bias                     int64\n",
              "bias:confidence        float64\n",
              "message                  int64\n",
              "message:confidence     float64\n",
              "source                   int64\n",
              "text                    object\n",
              "dtype: object"
            ]
          },
          "metadata": {},
          "execution_count": 11
        }
      ]
    },
    {
      "cell_type": "code",
      "metadata": {
        "id": "b-fZHQuG93Q2"
      },
      "source": [
        "df_text_final=df['text']"
      ],
      "execution_count": null,
      "outputs": []
    },
    {
      "cell_type": "code",
      "metadata": {
        "colab": {
          "base_uri": "https://localhost:8080/"
        },
        "id": "7z3ip_HE9Kgx",
        "outputId": "a2ca5548-3377-4e02-87a5-c3212b80db38"
      },
      "source": [
        "from sklearn.feature_extraction.text import TfidfVectorizer\n",
        "from sklearn.feature_selection import SelectKBest, chi2,f_classif, mutual_info_classif\n",
        "\n",
        "\n",
        "vectorizer = TfidfVectorizer(min_df=3,analyzer='word',max_features=3000)\n",
        "df_text=vectorizer.fit_transform(df_text_final)\n",
        "print(df_text)"
      ],
      "execution_count": null,
      "outputs": [
        {
          "output_type": "stream",
          "name": "stdout",
          "text": [
            "  (0, 563)\t0.15342295814081838\n",
            "  (0, 1344)\t0.37698388198465016\n",
            "  (0, 2031)\t0.46060506139401586\n",
            "  (0, 1853)\t0.3044673590069145\n",
            "  (0, 1088)\t0.5473391608862196\n",
            "  (0, 2236)\t0.36841755250729313\n",
            "  (0, 2309)\t0.3068802752240335\n",
            "  (1, 1343)\t0.12118378144591152\n",
            "  (1, 2106)\t0.44572468201220594\n",
            "  (1, 413)\t0.4135549568954739\n",
            "  (1, 210)\t0.12952380554197554\n",
            "  (1, 675)\t0.36588024533906194\n",
            "  (1, 1284)\t0.3700624214457812\n",
            "  (1, 1858)\t0.126937618810559\n",
            "  (1, 1142)\t0.32809164376736016\n",
            "  (1, 2834)\t0.3378301166635448\n",
            "  (1, 563)\t0.1351047091104849\n",
            "  (1, 1853)\t0.2681148536747105\n",
            "  (2, 2321)\t0.30140492316534834\n",
            "  (2, 2657)\t0.15820987890894567\n",
            "  (2, 1104)\t0.09765154435755\n",
            "  (2, 2406)\t0.19731163470156696\n",
            "  (2, 1730)\t0.22334410206999084\n",
            "  (2, 718)\t0.2805441727533909\n",
            "  (2, 2937)\t0.20763815831393995\n",
            "  :\t:\n",
            "  (4999, 2457)\t0.21538624996653985\n",
            "  (4999, 1446)\t0.2519428244384493\n",
            "  (4999, 1597)\t0.2224176082527301\n",
            "  (4999, 2836)\t0.2244349063706591\n",
            "  (4999, 811)\t0.23400759294470655\n",
            "  (4999, 595)\t0.1568385325198735\n",
            "  (4999, 1109)\t0.20351780985818474\n",
            "  (4999, 2224)\t0.20464589172230427\n",
            "  (4999, 515)\t0.16808931725039483\n",
            "  (4999, 192)\t0.18787833189874964\n",
            "  (4999, 194)\t0.14192283222976274\n",
            "  (4999, 1264)\t0.3158956190149926\n",
            "  (4999, 2599)\t0.19394512328413727\n",
            "  (4999, 1262)\t0.17172294859620618\n",
            "  (4999, 434)\t0.13737083753803778\n",
            "  (4999, 1277)\t0.1202819580479641\n",
            "  (4999, 2474)\t0.15603018763407211\n",
            "  (4999, 1475)\t0.09785990362132083\n",
            "  (4999, 2669)\t0.08723801395916629\n",
            "  (4999, 1912)\t0.13040466091436587\n",
            "  (4999, 2700)\t0.10134042984083791\n",
            "  (4999, 1879)\t0.15161379824585902\n",
            "  (4999, 1730)\t0.16481370137577123\n",
            "  (4999, 2654)\t0.050670214920418954\n",
            "  (4999, 1858)\t0.06518205992571809\n"
          ]
        }
      ]
    },
    {
      "cell_type": "code",
      "metadata": {
        "colab": {
          "base_uri": "https://localhost:8080/",
          "height": 176
        },
        "id": "idFyWrbtVBFq",
        "outputId": "e179b56f-bf7d-4bf0-adda-090ed8ec2020"
      },
      "source": [
        "sns.pairplot(df, y_vars=['bias'])"
      ],
      "execution_count": null,
      "outputs": [
        {
          "output_type": "execute_result",
          "data": {
            "text/plain": [
              "<seaborn.axisgrid.PairGrid at 0x7f1f77b85e10>"
            ]
          },
          "metadata": {},
          "execution_count": 14
        },
        {
          "output_type": "display_data",
          "data": {
            "image/png": "[encoded data removed]",
            "text/plain": [
              "<Figure size 1440x180 with 9 Axes>"
            ]
          },
          "metadata": {
            "needs_background": "light"
          }
        }
      ]
    },
    {
      "cell_type": "code",
      "metadata": {
        "colab": {
          "base_uri": "https://localhost:8080/",
          "height": 176
        },
        "id": "SPlOqV-jWAez",
        "outputId": "132ffc01-93dc-4eba-8dd7-21be003386cb"
      },
      "source": [
        "sns.pairplot(df, y_vars=['message'])"
      ],
      "execution_count": null,
      "outputs": [
        {
          "output_type": "execute_result",
          "data": {
            "text/plain": [
              "<seaborn.axisgrid.PairGrid at 0x7f1f6e233250>"
            ]
          },
          "metadata": {},
          "execution_count": 15
        },
        {
          "output_type": "display_data",
          "data": {
            "image/png": "[encoded data removed]",
            "text/plain": [
              "<Figure size 1440x180 with 9 Axes>"
            ]
          },
          "metadata": {
            "needs_background": "light"
          }
        }
      ]
    },
    {
      "cell_type": "code",
      "metadata": {
        "colab": {
          "base_uri": "https://localhost:8080/",
          "height": 1000
        },
        "id": "WuzzAgnkWJFH",
        "outputId": "881e41ee-f489-4bde-f71d-2b2880f59fd6"
      },
      "source": [
        "%matplotlib inline\n",
        "corrmat = df.corr()\n",
        "top_corr_features = corrmat.index\n",
        "plt.figure(figsize=(20,20))\n",
        "sns.heatmap(df[top_corr_features].corr(), annot=True, cmap='RdYlGn')"
      ],
      "execution_count": null,
      "outputs": [
        {
          "output_type": "execute_result",
          "data": {
            "text/plain": [
              "<matplotlib.axes._subplots.AxesSubplot at 0x7f1f6da1f390>"
            ]
          },
          "metadata": {},
          "execution_count": 16
        },
        {
          "output_type": "display_data",
          "data": {
            "image/png": "[encoded data removed]",
            "text/plain": [
              "<Figure size 1440x1440 with 2 Axes>"
            ]
          },
          "metadata": {
            "needs_background": "light"
          }
        }
      ]
    },
    {
      "cell_type": "code",
      "metadata": {
        "colab": {
          "base_uri": "https://localhost:8080/"
        },
        "id": "MmYsAQgvWYTE",
        "outputId": "77938c63-9a1f-401b-92a2-4e41611fb067"
      },
      "source": [
        "corr_matrix=df.corr()\n",
        "corr_matrix['bias'].sort_values(ascending=False)"
      ],
      "execution_count": null,
      "outputs": [
        {
          "output_type": "execute_result",
          "data": {
            "text/plain": [
              "bias                   1.000000\n",
              "audience               0.126876\n",
              "_trusted_judgments     0.037140\n",
              "audience:confidence    0.000041\n",
              "message:confidence    -0.026980\n",
              "bias:confidence       -0.076507\n",
              "source                -0.076848\n",
              "message               -0.336590\n",
              "Name: bias, dtype: float64"
            ]
          },
          "metadata": {},
          "execution_count": 17
        }
      ]
    },
    {
      "cell_type": "code",
      "metadata": {
        "colab": {
          "base_uri": "https://localhost:8080/"
        },
        "id": "f42zNbcPWiE-",
        "outputId": "40c150ab-e335-44ef-cff7-a4ac1f2c014b"
      },
      "source": [
        "corr_matrix['message'].sort_values(ascending=False)"
      ],
      "execution_count": null,
      "outputs": [
        {
          "output_type": "execute_result",
          "data": {
            "text/plain": [
              "message                1.000000\n",
              "_trusted_judgments     0.022849\n",
              "bias:confidence        0.015434\n",
              "message:confidence    -0.026322\n",
              "source                -0.041411\n",
              "audience:confidence   -0.043444\n",
              "audience              -0.246676\n",
              "bias                  -0.336590\n",
              "Name: message, dtype: float64"
            ]
          },
          "metadata": {},
          "execution_count": 18
        }
      ]
    },
    {
      "cell_type": "code",
      "metadata": {
        "colab": {
          "base_uri": "https://localhost:8080/"
        },
        "id": "Ihf8oGZk3reT",
        "outputId": "ac80767e-29be-4605-e169-7dc2a5a61918"
      },
      "source": [
        "print(df['text'])\n",
        "X = df.iloc[:, [0,1,2,4,6,7]]\n",
        "y = df.iloc[:, [5]].values\n",
        "print(X)\n",
        "print(y)\n",
        "\n",
        "from sklearn.model_selection import train_test_split\n",
        "X_train, X_test, y_train, y_test = train_test_split((df_text),y,test_size=0.2, random_state = 42)"
      ],
      "execution_count": null,
      "outputs": [
        {
          "output_type": "stream",
          "name": "stdout",
          "text": [
            "0       RT @nowthisnews: Rep. Trey Radel (R- #FL) slam...\n",
            "1       VIDEO - #Obamacare:  Full of Higher Costs and ...\n",
            "2       Please join me today in remembering our fallen...\n",
            "3       RT @SenatorLeahy: 1st step toward Senate debat...\n",
            "4       .@amazon delivery #drones show need to update ...\n",
            "                              ...                        \n",
            "4995    I applaud Governor PerryÛªs recent decision t...\n",
            "4996    Today, I voted in favor of H.R. 5016 - Financi...\n",
            "4997    (Taken from posted WOKV interview)   Congressm...\n",
            "4998    Join me next week for a town hall in Ocala! I'...\n",
            "4999    Foreign Affairs Committee Hearing on Syria. I ...\n",
            "Name: text, Length: 5000, dtype: object\n",
            "      _trusted_judgments  audience  ...  message:confidence  source\n",
            "0                      1         1  ...                 1.0       0\n",
            "1                      1         1  ...                 1.0       0\n",
            "2                      1         1  ...                 1.0       0\n",
            "3                      1         1  ...                 1.0       0\n",
            "4                      1         1  ...                 1.0       0\n",
            "...                  ...       ...  ...                 ...     ...\n",
            "4995                   1         1  ...                 1.0       1\n",
            "4996                   1         1  ...                 1.0       1\n",
            "4997                   1         1  ...                 1.0       1\n",
            "4998                   1         1  ...                 1.0       1\n",
            "4999                   1         1  ...                 1.0       1\n",
            "\n",
            "[5000 rows x 6 columns]\n",
            "[[1]\n",
            " [2]\n",
            " [3]\n",
            " ...\n",
            " [1]\n",
            " [8]\n",
            " [3]]\n"
          ]
        }
      ]
    },
    {
      "cell_type": "code",
      "metadata": {
        "colab": {
          "base_uri": "https://localhost:8080/"
        },
        "id": "iYQhl_ccQjMv",
        "outputId": "cae576f3-4c17-416c-becc-98a27a0a7b9c"
      },
      "source": [
        "from sklearn.tree import DecisionTreeClassifier\n",
        "from sklearn.ensemble import RandomForestClassifier\n",
        "from sklearn.model_selection import GridSearchCV\n",
        "\n",
        "\n",
        "rf=RandomForestClassifier(n_estimators=10)\n",
        "param_grid = {\n",
        "    'bootstrap': [True, False],\n",
        "    'max_depth': [128],\n",
        "    'max_features': [7],\n",
        "    'min_samples_leaf': [8],\n",
        "    'min_samples_split': [8],\n",
        "    'n_estimators': [1000]\n",
        "}\n",
        "\n",
        "grid_search = GridSearchCV(estimator = rf, param_grid = param_grid, \n",
        "                          cv = 3, n_jobs = 4, verbose = 3)\n",
        "grid_search.fit(X_train,y_train)\n",
        "#print(grid_search.score(X_test,y_test))\n",
        "rf.fit(X_train,y_train)"
      ],
      "execution_count": null,
      "outputs": [
        {
          "output_type": "stream",
          "name": "stdout",
          "text": [
            "Fitting 3 folds for each of 2 candidates, totalling 6 fits\n"
          ]
        },
        {
          "output_type": "execute_result",
          "data": {
            "text/plain": [
              "RandomForestClassifier(n_estimators=10)"
            ]
          },
          "metadata": {},
          "execution_count": 21
        }
      ]
    },
    {
      "cell_type": "code",
      "metadata": {
        "colab": {
          "base_uri": "https://localhost:8080/"
        },
        "id": "JFQZ4YM8Tfgc",
        "outputId": "118b4cce-9868-41ef-8145-79115cf12cb8"
      },
      "source": [
        "from sklearn.metrics import classification_report, confusion_matrix, accuracy_score\n",
        "\n",
        "y_train_pred=rf.predict(X_train)\n",
        "\n",
        "\n",
        "\n",
        "#print(classification_report(y_train,y_train_pred))\n",
        "print(accuracy_score(y_train, y_train_pred))"
      ],
      "execution_count": null,
      "outputs": [
        {
          "output_type": "stream",
          "name": "stdout",
          "text": [
            "0.98025\n"
          ]
        }
      ]
    },
    {
      "cell_type": "code",
      "metadata": {
        "colab": {
          "base_uri": "https://localhost:8080/"
        },
        "id": "Opmo8HwLT2I9",
        "outputId": "df21a7fd-d3cf-4824-f8ff-575371a380bf"
      },
      "source": [
        "from sklearn.metrics import confusion_matrix\n",
        "from keras.models import Sequential\n",
        "from keras.layers import Activation, Dense\n",
        "\n",
        "\n",
        "\n",
        "classifier = Sequential()\n",
        "classifier.add(Dense(activation = \"relu\", input_dim = 3000, \n",
        "                     units = 8, kernel_initializer = \"uniform\"))\n",
        "classifier.add(Dense(activation = \"relu\", units = 14, \n",
        "                     kernel_initializer = \"uniform\"))\n",
        "classifier.add(Dense(activation = \"sigmoid\", units = 1, \n",
        "                     kernel_initializer = \"uniform\"))\n",
        "classifier.compile(optimizer = 'adam' , loss = 'binary_crossentropy', \n",
        "                   metrics = ['accuracy'] )\n",
        "classifier.fit(X_train , y_train , batch_size = 8 ,epochs = 150  )\n",
        "y_pred = classifier.predict(X_test)\n",
        "y_pred = (y_pred > 0.5)\n",
        "cm = confusion_matrix(y_test,y_pred)\n",
        "accuracy = (cm[0][0]+cm[1][1])/(cm[0][1] + cm[1][0] +cm[0][0] +cm[1][1])\n",
        "print(accuracy)"
      ],
      "execution_count": null,
      "outputs": [
        {
          "output_type": "stream",
          "name": "stdout",
          "text": [
            "Epoch 1/150\n",
            "500/500 [==============================] - 2s 2ms/step - loss: -67.0004 - accuracy: 0.2900\n",
            "Epoch 2/150\n",
            "500/500 [==============================] - 1s 2ms/step - loss: -1115.2189 - accuracy: 0.2905\n",
            "Epoch 3/150\n",
            "500/500 [==============================] - 1s 2ms/step - loss: -4572.7959 - accuracy: 0.2905\n",
            "Epoch 4/150\n",
            "500/500 [==============================] - 1s 2ms/step - loss: -11344.8564 - accuracy: 0.2905\n",
            "Epoch 5/150\n",
            "500/500 [==============================] - 1s 2ms/step - loss: -22077.4414 - accuracy: 0.2905\n",
            "Epoch 6/150\n",
            "500/500 [==============================] - 1s 2ms/step - loss: -37092.1680 - accuracy: 0.2905\n",
            "Epoch 7/150\n",
            "500/500 [==============================] - 1s 2ms/step - loss: -56641.3320 - accuracy: 0.2905\n",
            "Epoch 8/150\n",
            "500/500 [==============================] - 1s 2ms/step - loss: -81133.2188 - accuracy: 0.2905\n",
            "Epoch 9/150\n",
            "500/500 [==============================] - 1s 2ms/step - loss: -110753.3203 - accuracy: 0.2905\n",
            "Epoch 10/150\n",
            "500/500 [==============================] - 1s 2ms/step - loss: -145737.1094 - accuracy: 0.2905\n",
            "Epoch 11/150\n",
            "500/500 [==============================] - 1s 2ms/step - loss: -186319.0625 - accuracy: 0.2905\n",
            "Epoch 12/150\n",
            "500/500 [==============================] - 1s 2ms/step - loss: -232853.7969 - accuracy: 0.2905\n",
            "Epoch 13/150\n",
            "500/500 [==============================] - 1s 2ms/step - loss: -285553.0938 - accuracy: 0.2905\n",
            "Epoch 14/150\n",
            "500/500 [==============================] - 1s 2ms/step - loss: -344483.8750 - accuracy: 0.2905\n",
            "Epoch 15/150\n",
            "500/500 [==============================] - 1s 2ms/step - loss: -409910.2188 - accuracy: 0.2905\n",
            "Epoch 16/150\n",
            "500/500 [==============================] - 1s 2ms/step - loss: -482056.8750 - accuracy: 0.2905\n",
            "Epoch 17/150\n",
            "500/500 [==============================] - 1s 2ms/step - loss: -561639.5000 - accuracy: 0.2905\n",
            "Epoch 18/150\n",
            "500/500 [==============================] - 1s 2ms/step - loss: -648956.3750 - accuracy: 0.2905\n",
            "Epoch 19/150\n",
            "500/500 [==============================] - 1s 2ms/step - loss: -743924.6875 - accuracy: 0.2905\n",
            "Epoch 20/150\n",
            "500/500 [==============================] - 1s 2ms/step - loss: -846973.2500 - accuracy: 0.2905\n",
            "Epoch 21/150\n",
            "500/500 [==============================] - 1s 2ms/step - loss: -958442.4375 - accuracy: 0.2905\n",
            "Epoch 22/150\n",
            "500/500 [==============================] - 1s 2ms/step - loss: -1078277.5000 - accuracy: 0.2905\n",
            "Epoch 23/150\n",
            "500/500 [==============================] - 1s 2ms/step - loss: -1206906.8750 - accuracy: 0.2905\n",
            "Epoch 24/150\n",
            "500/500 [==============================] - 1s 2ms/step - loss: -1344576.2500 - accuracy: 0.2905\n",
            "Epoch 25/150\n",
            "500/500 [==============================] - 1s 2ms/step - loss: -1491191.2500 - accuracy: 0.2905\n",
            "Epoch 26/150\n",
            "500/500 [==============================] - 1s 2ms/step - loss: -1647666.8750 - accuracy: 0.2905\n",
            "Epoch 27/150\n",
            "500/500 [==============================] - 1s 2ms/step - loss: -1813863.2500 - accuracy: 0.2905\n",
            "Epoch 28/150\n",
            "500/500 [==============================] - 1s 2ms/step - loss: -1989951.1250 - accuracy: 0.2905\n",
            "Epoch 29/150\n",
            "500/500 [==============================] - 1s 2ms/step - loss: -2176233.0000 - accuracy: 0.2905\n",
            "Epoch 30/150\n",
            "500/500 [==============================] - 1s 2ms/step - loss: -2372793.7500 - accuracy: 0.2905\n",
            "Epoch 31/150\n",
            "500/500 [==============================] - 1s 2ms/step - loss: -2580653.2500 - accuracy: 0.2905\n",
            "Epoch 32/150\n",
            "500/500 [==============================] - 1s 2ms/step - loss: -2800239.7500 - accuracy: 0.2905\n",
            "Epoch 33/150\n",
            "500/500 [==============================] - 1s 2ms/step - loss: -3031686.0000 - accuracy: 0.2905\n",
            "Epoch 34/150\n",
            "500/500 [==============================] - 1s 2ms/step - loss: -3274947.5000 - accuracy: 0.2905\n",
            "Epoch 35/150\n",
            "500/500 [==============================] - 1s 2ms/step - loss: -3530095.7500 - accuracy: 0.2905\n",
            "Epoch 36/150\n",
            "500/500 [==============================] - 1s 2ms/step - loss: -3796854.2500 - accuracy: 0.2905\n",
            "Epoch 37/150\n",
            "500/500 [==============================] - 1s 2ms/step - loss: -4075893.5000 - accuracy: 0.2905\n",
            "Epoch 38/150\n",
            "500/500 [==============================] - 1s 2ms/step - loss: -4368324.0000 - accuracy: 0.2905\n",
            "Epoch 39/150\n",
            "500/500 [==============================] - 1s 2ms/step - loss: -4674017.0000 - accuracy: 0.2905\n",
            "Epoch 40/150\n",
            "500/500 [==============================] - 1s 2ms/step - loss: -4992409.5000 - accuracy: 0.2905\n",
            "Epoch 41/150\n",
            "500/500 [==============================] - 1s 2ms/step - loss: -5323699.5000 - accuracy: 0.2905\n",
            "Epoch 42/150\n",
            "500/500 [==============================] - 1s 2ms/step - loss: -5669304.0000 - accuracy: 0.2905\n",
            "Epoch 43/150\n",
            "500/500 [==============================] - 1s 2ms/step - loss: -6028774.5000 - accuracy: 0.2905\n",
            "Epoch 44/150\n",
            "500/500 [==============================] - 1s 2ms/step - loss: -6402342.5000 - accuracy: 0.2905\n",
            "Epoch 45/150\n",
            "500/500 [==============================] - 1s 2ms/step - loss: -6790329.0000 - accuracy: 0.2905\n",
            "Epoch 46/150\n",
            "500/500 [==============================] - 1s 2ms/step - loss: -7194160.5000 - accuracy: 0.2905\n",
            "Epoch 47/150\n",
            "500/500 [==============================] - 1s 2ms/step - loss: -7612763.5000 - accuracy: 0.2905\n",
            "Epoch 48/150\n",
            "500/500 [==============================] - 1s 2ms/step - loss: -8045368.0000 - accuracy: 0.2905\n",
            "Epoch 49/150\n",
            "500/500 [==============================] - 1s 2ms/step - loss: -8493647.0000 - accuracy: 0.2905\n",
            "Epoch 50/150\n",
            "500/500 [==============================] - 1s 2ms/step - loss: -8958797.0000 - accuracy: 0.2905\n",
            "Epoch 51/150\n",
            "500/500 [==============================] - 1s 2ms/step - loss: -9439263.0000 - accuracy: 0.2905\n",
            "Epoch 52/150\n",
            "500/500 [==============================] - 1s 2ms/step - loss: -9936039.0000 - accuracy: 0.2905\n",
            "Epoch 53/150\n",
            "500/500 [==============================] - 1s 2ms/step - loss: -10449181.0000 - accuracy: 0.2905\n",
            "Epoch 54/150\n",
            "500/500 [==============================] - 1s 2ms/step - loss: -10979565.0000 - accuracy: 0.2905\n",
            "Epoch 55/150\n",
            "500/500 [==============================] - 1s 2ms/step - loss: -11526552.0000 - accuracy: 0.2905\n",
            "Epoch 56/150\n",
            "500/500 [==============================] - 1s 2ms/step - loss: -12090150.0000 - accuracy: 0.2905\n",
            "Epoch 57/150\n",
            "500/500 [==============================] - 1s 2ms/step - loss: -12672862.0000 - accuracy: 0.2905\n",
            "Epoch 58/150\n",
            "500/500 [==============================] - 1s 2ms/step - loss: -13272923.0000 - accuracy: 0.2905\n",
            "Epoch 59/150\n",
            "500/500 [==============================] - 1s 2ms/step - loss: -13889855.0000 - accuracy: 0.2905\n",
            "Epoch 60/150\n",
            "500/500 [==============================] - 1s 2ms/step - loss: -14525988.0000 - accuracy: 0.2905\n",
            "Epoch 61/150\n",
            "500/500 [==============================] - 1s 2ms/step - loss: -15180547.0000 - accuracy: 0.2905\n",
            "Epoch 62/150\n",
            "500/500 [==============================] - 1s 2ms/step - loss: -15853068.0000 - accuracy: 0.2905\n",
            "Epoch 63/150\n",
            "500/500 [==============================] - 1s 2ms/step - loss: -16545536.0000 - accuracy: 0.2905\n",
            "Epoch 64/150\n",
            "500/500 [==============================] - 1s 2ms/step - loss: -17257534.0000 - accuracy: 0.2905\n",
            "Epoch 65/150\n",
            "500/500 [==============================] - 1s 2ms/step - loss: -17987548.0000 - accuracy: 0.2905\n",
            "Epoch 66/150\n",
            "500/500 [==============================] - 1s 2ms/step - loss: -18736140.0000 - accuracy: 0.2905\n",
            "Epoch 67/150\n",
            "500/500 [==============================] - 1s 2ms/step - loss: -19505654.0000 - accuracy: 0.2905\n",
            "Epoch 68/150\n",
            "500/500 [==============================] - 1s 2ms/step - loss: -20297066.0000 - accuracy: 0.2905\n",
            "Epoch 69/150\n",
            "500/500 [==============================] - 1s 2ms/step - loss: -21109540.0000 - accuracy: 0.2905\n",
            "Epoch 70/150\n",
            "500/500 [==============================] - 1s 2ms/step - loss: -21945228.0000 - accuracy: 0.2905\n",
            "Epoch 71/150\n",
            "500/500 [==============================] - 1s 2ms/step - loss: -22800074.0000 - accuracy: 0.2905\n",
            "Epoch 72/150\n",
            "500/500 [==============================] - 1s 2ms/step - loss: -23676662.0000 - accuracy: 0.2905\n",
            "Epoch 73/150\n",
            "500/500 [==============================] - 1s 2ms/step - loss: -24574100.0000 - accuracy: 0.2905\n",
            "Epoch 74/150\n",
            "500/500 [==============================] - 1s 2ms/step - loss: -25492336.0000 - accuracy: 0.2905\n",
            "Epoch 75/150\n",
            "500/500 [==============================] - 1s 2ms/step - loss: -26433566.0000 - accuracy: 0.2905\n",
            "Epoch 76/150\n",
            "500/500 [==============================] - 1s 2ms/step - loss: -27396564.0000 - accuracy: 0.2905\n",
            "Epoch 77/150\n",
            "500/500 [==============================] - 1s 2ms/step - loss: -28383138.0000 - accuracy: 0.2905\n",
            "Epoch 78/150\n",
            "500/500 [==============================] - 1s 2ms/step - loss: -29388808.0000 - accuracy: 0.2905\n",
            "Epoch 79/150\n",
            "500/500 [==============================] - 1s 2ms/step - loss: -30418354.0000 - accuracy: 0.2905\n",
            "Epoch 80/150\n",
            "500/500 [==============================] - 1s 2ms/step - loss: -31471626.0000 - accuracy: 0.2905\n",
            "Epoch 81/150\n",
            "500/500 [==============================] - 1s 2ms/step - loss: -32546658.0000 - accuracy: 0.2905\n",
            "Epoch 82/150\n",
            "500/500 [==============================] - 1s 2ms/step - loss: -33645016.0000 - accuracy: 0.2905\n",
            "Epoch 83/150\n",
            "500/500 [==============================] - 1s 2ms/step - loss: -34768900.0000 - accuracy: 0.2905\n",
            "Epoch 84/150\n",
            "500/500 [==============================] - 1s 2ms/step - loss: -35918620.0000 - accuracy: 0.2905\n",
            "Epoch 85/150\n",
            "500/500 [==============================] - 1s 2ms/step - loss: -37092236.0000 - accuracy: 0.2905\n",
            "Epoch 86/150\n",
            "500/500 [==============================] - 1s 2ms/step - loss: -38288808.0000 - accuracy: 0.2905\n",
            "Epoch 87/150\n",
            "500/500 [==============================] - 1s 2ms/step - loss: -39512456.0000 - accuracy: 0.2905\n",
            "Epoch 88/150\n",
            "500/500 [==============================] - 1s 2ms/step - loss: -40761624.0000 - accuracy: 0.2905\n",
            "Epoch 89/150\n",
            "500/500 [==============================] - 1s 2ms/step - loss: -42035904.0000 - accuracy: 0.2905\n",
            "Epoch 90/150\n",
            "500/500 [==============================] - 1s 2ms/step - loss: -43336000.0000 - accuracy: 0.2905\n",
            "Epoch 91/150\n",
            "500/500 [==============================] - 1s 2ms/step - loss: -44661516.0000 - accuracy: 0.2905\n",
            "Epoch 92/150\n",
            "500/500 [==============================] - 1s 2ms/step - loss: -46012848.0000 - accuracy: 0.2905\n",
            "Epoch 93/150\n",
            "500/500 [==============================] - 1s 2ms/step - loss: -47391580.0000 - accuracy: 0.2905\n",
            "Epoch 94/150\n",
            "500/500 [==============================] - 1s 2ms/step - loss: -48799588.0000 - accuracy: 0.2905\n",
            "Epoch 95/150\n",
            "500/500 [==============================] - 1s 2ms/step - loss: -50234212.0000 - accuracy: 0.2905\n",
            "Epoch 96/150\n",
            "500/500 [==============================] - 1s 2ms/step - loss: -51693676.0000 - accuracy: 0.2905\n",
            "Epoch 97/150\n",
            "500/500 [==============================] - 1s 2ms/step - loss: -53179620.0000 - accuracy: 0.2905\n",
            "Epoch 98/150\n",
            "500/500 [==============================] - 1s 2ms/step - loss: -54695288.0000 - accuracy: 0.2905\n",
            "Epoch 99/150\n",
            "500/500 [==============================] - 1s 2ms/step - loss: -56238312.0000 - accuracy: 0.2905\n",
            "Epoch 100/150\n",
            "500/500 [==============================] - 1s 2ms/step - loss: -57809952.0000 - accuracy: 0.2905\n",
            "Epoch 101/150\n",
            "500/500 [==============================] - 1s 2ms/step - loss: -59409936.0000 - accuracy: 0.2905\n",
            "Epoch 102/150\n",
            "500/500 [==============================] - 1s 2ms/step - loss: -61039764.0000 - accuracy: 0.2905\n",
            "Epoch 103/150\n",
            "500/500 [==============================] - 1s 2ms/step - loss: -62696968.0000 - accuracy: 0.2905\n",
            "Epoch 104/150\n",
            "500/500 [==============================] - 1s 2ms/step - loss: -64384868.0000 - accuracy: 0.2905\n",
            "Epoch 105/150\n",
            "500/500 [==============================] - 1s 2ms/step - loss: -66104316.0000 - accuracy: 0.2905\n",
            "Epoch 106/150\n",
            "500/500 [==============================] - 1s 2ms/step - loss: -67852320.0000 - accuracy: 0.2905\n",
            "Epoch 107/150\n",
            "500/500 [==============================] - 1s 2ms/step - loss: -69630560.0000 - accuracy: 0.2905\n",
            "Epoch 108/150\n",
            "500/500 [==============================] - 1s 2ms/step - loss: -71439968.0000 - accuracy: 0.2905\n",
            "Epoch 109/150\n",
            "500/500 [==============================] - 1s 2ms/step - loss: -73279088.0000 - accuracy: 0.2905\n",
            "Epoch 110/150\n",
            "500/500 [==============================] - 1s 2ms/step - loss: -75153040.0000 - accuracy: 0.2905\n",
            "Epoch 111/150\n",
            "500/500 [==============================] - 1s 2ms/step - loss: -77064152.0000 - accuracy: 0.2905\n",
            "Epoch 112/150\n",
            "500/500 [==============================] - 1s 2ms/step - loss: -78997768.0000 - accuracy: 0.2905\n",
            "Epoch 113/150\n",
            "500/500 [==============================] - 1s 2ms/step - loss: -80960720.0000 - accuracy: 0.2905\n",
            "Epoch 114/150\n",
            "500/500 [==============================] - 1s 2ms/step - loss: -82957864.0000 - accuracy: 0.2905\n",
            "Epoch 115/150\n",
            "500/500 [==============================] - 1s 2ms/step - loss: -84985712.0000 - accuracy: 0.2905\n",
            "Epoch 116/150\n",
            "500/500 [==============================] - 1s 2ms/step - loss: -87042544.0000 - accuracy: 0.2905\n",
            "Epoch 117/150\n",
            "500/500 [==============================] - 1s 2ms/step - loss: -89135568.0000 - accuracy: 0.2905\n",
            "Epoch 118/150\n",
            "500/500 [==============================] - 1s 2ms/step - loss: -91258888.0000 - accuracy: 0.2905\n",
            "Epoch 119/150\n",
            "500/500 [==============================] - 1s 2ms/step - loss: -93416488.0000 - accuracy: 0.2905\n",
            "Epoch 120/150\n",
            "500/500 [==============================] - 1s 2ms/step - loss: -95607064.0000 - accuracy: 0.2905\n",
            "Epoch 121/150\n",
            "500/500 [==============================] - 1s 2ms/step - loss: -97831024.0000 - accuracy: 0.2905\n",
            "Epoch 122/150\n",
            "500/500 [==============================] - 1s 2ms/step - loss: -100091336.0000 - accuracy: 0.2905\n",
            "Epoch 123/150\n",
            "500/500 [==============================] - 1s 2ms/step - loss: -102387736.0000 - accuracy: 0.2905\n",
            "Epoch 124/150\n",
            "500/500 [==============================] - 1s 2ms/step - loss: -104718480.0000 - accuracy: 0.2905\n",
            "Epoch 125/150\n",
            "500/500 [==============================] - 1s 2ms/step - loss: -107083896.0000 - accuracy: 0.2905\n",
            "Epoch 126/150\n",
            "500/500 [==============================] - 1s 2ms/step - loss: -109485016.0000 - accuracy: 0.2905\n",
            "Epoch 127/150\n",
            "500/500 [==============================] - 1s 2ms/step - loss: -111914744.0000 - accuracy: 0.2905\n",
            "Epoch 128/150\n",
            "500/500 [==============================] - 1s 2ms/step - loss: -114382520.0000 - accuracy: 0.2905\n",
            "Epoch 129/150\n",
            "500/500 [==============================] - 1s 2ms/step - loss: -116887864.0000 - accuracy: 0.2905\n",
            "Epoch 130/150\n",
            "500/500 [==============================] - 1s 2ms/step - loss: -119421272.0000 - accuracy: 0.2905\n",
            "Epoch 131/150\n",
            "500/500 [==============================] - 1s 2ms/step - loss: -121987560.0000 - accuracy: 0.2905\n",
            "Epoch 132/150\n",
            "500/500 [==============================] - 1s 2ms/step - loss: -124593856.0000 - accuracy: 0.2905\n",
            "Epoch 133/150\n",
            "500/500 [==============================] - 1s 2ms/step - loss: -127233680.0000 - accuracy: 0.2905\n",
            "Epoch 134/150\n",
            "500/500 [==============================] - 1s 2ms/step - loss: -129906424.0000 - accuracy: 0.2905\n",
            "Epoch 135/150\n",
            "500/500 [==============================] - 1s 2ms/step - loss: -132619408.0000 - accuracy: 0.2905\n",
            "Epoch 136/150\n",
            "500/500 [==============================] - 1s 2ms/step - loss: -135367712.0000 - accuracy: 0.2905\n",
            "Epoch 137/150\n",
            "500/500 [==============================] - 1s 2ms/step - loss: -138148400.0000 - accuracy: 0.2905\n",
            "Epoch 138/150\n",
            "500/500 [==============================] - 1s 2ms/step - loss: -140969200.0000 - accuracy: 0.2905\n",
            "Epoch 139/150\n",
            "500/500 [==============================] - 1s 2ms/step - loss: -143832736.0000 - accuracy: 0.2905\n",
            "Epoch 140/150\n",
            "500/500 [==============================] - 1s 2ms/step - loss: -146736832.0000 - accuracy: 0.2905\n",
            "Epoch 141/150\n",
            "500/500 [==============================] - 1s 2ms/step - loss: -149677152.0000 - accuracy: 0.2905\n",
            "Epoch 142/150\n",
            "500/500 [==============================] - 1s 2ms/step - loss: -152654496.0000 - accuracy: 0.2905\n",
            "Epoch 143/150\n",
            "500/500 [==============================] - 1s 2ms/step - loss: -155675552.0000 - accuracy: 0.2905\n",
            "Epoch 144/150\n",
            "500/500 [==============================] - 1s 2ms/step - loss: -158727392.0000 - accuracy: 0.2905\n",
            "Epoch 145/150\n",
            "500/500 [==============================] - 1s 2ms/step - loss: -161812272.0000 - accuracy: 0.2905\n",
            "Epoch 146/150\n",
            "500/500 [==============================] - 1s 2ms/step - loss: -164943568.0000 - accuracy: 0.2905\n",
            "Epoch 147/150\n",
            "500/500 [==============================] - 1s 2ms/step - loss: -168121392.0000 - accuracy: 0.2905\n",
            "Epoch 148/150\n",
            "500/500 [==============================] - 1s 2ms/step - loss: -171339744.0000 - accuracy: 0.2905\n",
            "Epoch 149/150\n",
            "500/500 [==============================] - 1s 2ms/step - loss: -174593392.0000 - accuracy: 0.2905\n",
            "Epoch 150/150\n",
            "500/500 [==============================] - 1s 2ms/step - loss: -177881792.0000 - accuracy: 0.2905\n",
            "0.9120879120879121\n"
          ]
        }
      ]
    }
  ]
}